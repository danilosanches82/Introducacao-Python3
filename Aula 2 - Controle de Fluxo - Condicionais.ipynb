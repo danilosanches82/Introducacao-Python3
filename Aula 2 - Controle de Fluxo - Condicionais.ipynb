{
 "cells": [
  {
   "cell_type": "markdown",
   "metadata": {},
   "source": [
    "## Conteúdo da aula 2\n",
    "*  Controle de Fluxo\n",
    "*  Indentação do Código\n",
    "*  Sentenças Condicionais\n",
    "*  Exercícios:\n",
    "*  Expressões condicionais\n",
    "*  Valores True e False\n",
    "*  Exercicio 1\n",
    "*  Exercício 2\n",
    "### Desafio:\n",
    "*  Pedra, Papel e Tesoura"
   ]
  },
  {
   "cell_type": "markdown",
   "metadata": {
    "slideshow": {
     "slide_type": "slide"
    }
   },
   "source": [
    "# Controle de Fluxo"
   ]
  },
  {
   "cell_type": "markdown",
   "metadata": {
    "slideshow": {
     "slide_type": "slide"
    }
   },
   "source": [
    "## Indentação do Código"
   ]
  },
  {
   "cell_type": "markdown",
   "metadata": {
    "slideshow": {
     "slide_type": "fragment"
    }
   },
   "source": [
    "Os programas Python são estruturados através de indentação, ou seja, os blocos de código são definidos pelo seu recuo. \n",
    "Em Python, esse padrão é um requisito de linguagem, não é uma questão de estilo. Este princípio facilita a leitura e a compreensão do código Python de outras pessoas.\n",
    "\n",
    "Todas as declarações com a mesma distância à direita pertencem ao mesmo bloco de código, ou seja, as instruções dentro de uma linha de bloco verticalmente. O bloco termina em uma linha menos recuada ou no final do arquivo. Se um bloco tiver de ser mais profundamente aninhado, é simplesmente recuado mais para a direita. Veja a figura abaixo:"
   ]
  },
  {
   "cell_type": "markdown",
   "metadata": {
    "slideshow": {
     "slide_type": "slide"
    }
   },
   "source": [
    "![teste](img/identation.png)"
   ]
  },
  {
   "cell_type": "markdown",
   "metadata": {
    "slideshow": {
     "slide_type": "fragment"
    }
   },
   "source": [
    "Há outro aspecto da estruturação em Python, que vocês verão nos exemplos de declarações condicionais a seguir e de laços, mais a frente. As sentenças que iniciam o laço ou a declaração condicional terminam com dois pontos \":\" $-$ o mesmo é verdadeiro para funções e outras estruturas que introduzem blocos. Então, devemos dizer que as estruturas Python são definidas por dois pontos e indentação."
   ]
  },
  {
   "cell_type": "markdown",
   "metadata": {
    "slideshow": {
     "slide_type": "slide"
    }
   },
   "source": [
    "## Sentenças Condicionais\n",
    "\n",
    "É muito comum em um programa que certos conjuntos de instruções sejam executados de forma condicional, em casos como validar entradas de dados."
   ]
  },
  {
   "cell_type": "markdown",
   "metadata": {
    "slideshow": {
     "slide_type": "slide"
    }
   },
   "source": [
    "Sintaxe:\n",
    "```python\n",
    "    if <condição>:\n",
    "        <bloco de código>\n",
    "    elif <condição>:          # 0 ou mais cláusulas elif\n",
    "        <bloco de código>\n",
    "    else:                     # opcional\n",
    "        <bloco de código>\n",
    "```\n",
    "Na qual:\n",
    "\n",
    "+ `<condição>`: sentença que possa ser avaliada como verdadeira ou falsa.\n",
    "+ `<bloco de código>`: sequência de linhas de comando.\n",
    "+ As clausulas `elif` e `else` são opcionais e podem existir vários `elifs` para o mesmo `if`, porém apenas um `else` ao final."
   ]
  },
  {
   "cell_type": "markdown",
   "metadata": {
    "slideshow": {
     "slide_type": "slide"
    }
   },
   "source": [
    "Exemplo:"
   ]
  },
  {
   "cell_type": "code",
   "execution_count": 1,
   "metadata": {
    "slideshow": {
     "slide_type": "fragment"
    }
   },
   "outputs": [
    {
     "name": "stdout",
     "output_type": "stream",
     "text": [
      "Enter a number for x: 5\n",
      "Enter a number for y: 10\n",
      "x is smaller\n",
      "thanks!\n"
     ]
    }
   ],
   "source": [
    "x = int(input(\"Enter a number for x: \"))\n",
    "y = int(input(\"Enter a number for y: \"))\n",
    "if x == y:\n",
    "    print(\"x and y are equal\")\n",
    "elif x < y:\n",
    "    print(\"x is smaller\")\n",
    "else:\n",
    "    print(\"y is smaller\")\n",
    "print(\"thanks!\")"
   ]
  },
  {
   "cell_type": "markdown",
   "metadata": {
    "slideshow": {
     "slide_type": "slide"
    }
   },
   "source": [
    "Fluxograma do exemplo:"
   ]
  },
  {
   "cell_type": "markdown",
   "metadata": {
    "slideshow": {
     "slide_type": "fragment"
    }
   },
   "source": [
    "![if](img/if-statement.png)"
   ]
  },
  {
   "cell_type": "markdown",
   "metadata": {
    "slideshow": {
     "slide_type": "slide"
    }
   },
   "source": [
    "### Exercícios:\n",
    "- A fórmula para converter de Fahrenheit para Celsius é $C = (F - 32) \\times 5/9$. Use esta fórmula para converter a temperatura obtida no exemplo anterior para Celsius:"
   ]
  },
  {
   "cell_type": "code",
   "execution_count": null,
   "metadata": {
    "slideshow": {
     "slide_type": "fragment"
    }
   },
   "outputs": [],
   "source": []
  },
  {
   "cell_type": "markdown",
   "metadata": {
    "slideshow": {
     "slide_type": "slide"
    }
   },
   "source": [
    "- No trecho de código abaixo, quando o \\textbf{comando_4} é executado?"
   ]
  },
  {
   "cell_type": "code",
   "execution_count": null,
   "metadata": {
    "slideshow": {
     "slide_type": "fragment"
    }
   },
   "outputs": [],
   "source": [
    "if cond1:\n",
    "    if cond2:\n",
    "        comando_1\n",
    "    else:\n",
    "        comando_2\n",
    "else:\n",
    "    if cond3:\n",
    "        comando_3\n",
    "    else:\n",
    "        comando_4"
   ]
  },
  {
   "cell_type": "markdown",
   "metadata": {
    "slideshow": {
     "slide_type": "slide"
    }
   },
   "source": [
    "- O que será impresso no código abaixo?"
   ]
  },
  {
   "cell_type": "code",
   "execution_count": null,
   "metadata": {
    "slideshow": {
     "slide_type": "fragment"
    }
   },
   "outputs": [],
   "source": [
    "a = 9\n",
    "if a > 3:\n",
    "    if a < 7:\n",
    "        print(\"a\")\n",
    "else:\n",
    "    if a > -10:\n",
    "        print(\"b\")\n",
    "    else:\n",
    "        print(\"c\")\n",
    "print(\"finish!\")"
   ]
  },
  {
   "cell_type": "markdown",
   "metadata": {
    "slideshow": {
     "slide_type": "slide"
    }
   },
   "source": [
    "## Expressões condicionais"
   ]
  },
  {
   "cell_type": "markdown",
   "metadata": {
    "slideshow": {
     "slide_type": "fragment"
    }
   },
   "source": [
    "o Python suporta a expressão:\n",
    "```python\n",
    "    <variável> = <valor_1> if <condição> else <valor_2>\n",
    "```\n",
    "Na qual `<variável>` receberá `<valor_1>` se `<condição>` for verdadeira e `<valor_2>`  caso contrário."
   ]
  },
  {
   "cell_type": "code",
   "execution_count": null,
   "metadata": {
    "slideshow": {
     "slide_type": "fragment"
    }
   },
   "outputs": [],
   "source": [
    "Weekend = True if (today == \"Saturday\" or today == \"Sunday\") else False\n",
    "print(Weekend)"
   ]
  },
  {
   "cell_type": "markdown",
   "metadata": {
    "slideshow": {
     "slide_type": "slide"
    }
   },
   "source": [
    "### Valores True e False"
   ]
  },
  {
   "cell_type": "markdown",
   "metadata": {
    "slideshow": {
     "slide_type": "fragment"
    }
   },
   "source": [
    "* Todo valor em python pode ser avaliado como True (Verdadeiro) ou False (Falso); \n",
    "* A regra geral é que qualquer valor não-zero ou não vazio irá avaliar para Verdadeiro. "
   ]
  },
  {
   "cell_type": "code",
   "execution_count": null,
   "metadata": {
    "slideshow": {
     "slide_type": "fragment"
    }
   },
   "outputs": [],
   "source": [
    "val = int(input())\n",
    "if val:\n",
    "    print(\"True!\")\n",
    "else:\n",
    "    print(\"False!\")"
   ]
  },
  {
   "cell_type": "markdown",
   "metadata": {
    "slideshow": {
     "slide_type": "slide"
    }
   },
   "source": [
    "## Exercicio 1\n",
    "Escrever um programa que calcula a área de três tipos de objetos geométricos: quadrado, retângulo e círculo. \n",
    "- Primeiramente deve ser lido um caractere que indica o tipo de objeto a ter a área calculada: ’q’ para quadrado, ’r’ para retângulo e ’c’ para círculo.\n",
    "- Em seguida deverá ser lido as dimensões do objeto:\n",
    "  - Para um quadrado deve ser lido o tamanho de um lado.\n",
    "  - Para um retângulo devem ser lidos os tamanhos de cada lado.\n",
    "  - Para um círculo, deve ser lido o raio.\n",
    "- Em seguida o programa faz o cálculo da área, imprime no terminal e finaliza o programa. Se o usuário digitar um caractere diferente de ’q’, ’r’, e ’c’ o programa deverá imprimir uma mensagem de erro antes de finalizar o programa."
   ]
  },
  {
   "cell_type": "code",
   "execution_count": null,
   "metadata": {
    "slideshow": {
     "slide_type": "slide"
    }
   },
   "outputs": [],
   "source": [
    "from math import pi\n",
    "\n",
    "g = input(\"selecione o objeto -  q, r, ou c: \")\n",
    "entrada_valida = True\n",
    "if g == \"q\":\n",
    "    lado = float(input(\"forneça o lado do quadrado: \"))\n",
    "    area = lado * lado\n",
    "    objeto = \"quadrado\"\n",
    "elif g == \"r\":\n",
    "    a = float(input(\"forneça o lado a do retangulo: \"))\n",
    "    b = float(input(\"forneça o lado b do retangulo: \"))\n",
    "    area = a * b\n",
    "    objeto = \"retangulo\"\n",
    "elif g == \"c\":\n",
    "    r = float(input(\"forneça o raio do circulo: \"))\n",
    "    area = pi * r ** 2\n",
    "    objeto = \"circulo\"\n",
    "else:\n",
    "    print(\"Entrada inválida!\")\n",
    "    entrada_valida = False\n",
    "if entrada_valida:\n",
    "    print(f\"A área do {objeto} é {area}\")"
   ]
  },
  {
   "cell_type": "markdown",
   "metadata": {
    "slideshow": {
     "slide_type": "slide"
    }
   },
   "source": [
    "## Exercício 2\n",
    "\n",
    "Uma lata de leite em pó da marca A, com 400g custa R\\$$8,39. \n",
    "Um saco de leite em pó da marca B, com 1Kg custa R\\$$20,30. Qual a marca tem o melhor preço?"
   ]
  },
  {
   "cell_type": "code",
   "execution_count": null,
   "metadata": {
    "code_folding": [
     0
    ],
    "slideshow": {
     "slide_type": "fragment"
    }
   },
   "outputs": [],
   "source": [
    "# solução\n",
    "custo_gr_A = 8.39 / 400\n",
    "custo_gr_B = 20.30 / 1000\n",
    "if abs(custo_gr_A - custo_gr_B) <= 0.0001:\n",
    "    print(\"As duas marcas tem preços iguais!\")\n",
    "elif custo_gr_A < custo_gr_B:\n",
    "    print(\"A marca A tem melhor preço\")\n",
    "else:\n",
    "    print(\"A marca B tem melhor preço.\")"
   ]
  },
  {
   "cell_type": "markdown",
   "metadata": {
    "slideshow": {
     "slide_type": "slide"
    }
   },
   "source": [
    "# Desafio\n",
    "## Pedra, Papel e Tesoura\n",
    "\n",
    "Escreva um programa que simula o jogo conhecido como \"Pedra, Papel e Tesoura\" de um jogador contra o computador.\n",
    "<img src=\"img/pedra_papel_tesoura.png\" alt=\"Drawing\" style=\"width: 200px;\"/>"
   ]
  },
  {
   "cell_type": "markdown",
   "metadata": {
    "slideshow": {
     "slide_type": "slide"
    }
   },
   "source": [
    "Associar objetos (pedra, papel, tesoura) a números é uma forma de\n",
    "**abstração**. Vamos usar essa abstração para simplificar o código do sorteio:\n",
    "```\n",
    "import random                    # Import the random module\n",
    "number = random.randrange(0, n)  # Get random number between 0 and n-1\n",
    "```\n",
    "Tal simplificação pode ser também aplicada ao teste da condição?"
   ]
  },
  {
   "cell_type": "raw",
   "metadata": {
    "code_folding": [
     0
    ],
    "slideshow": {
     "slide_type": "slide"
    }
   },
   "source": [
    "\"\"\"\n",
    "  Jogo Pedra, Papel e Tesoura\n",
    "  Vamos adotar a seguinte abstração:\n",
    "    - pedra = 0\n",
    "    - papel = 1\n",
    "    - tesoura = 2\n",
    "  Usaremos nos nomes:\n",
    "    - user para representar o jogador\n",
    "    - computer para o computador\n",
    "    \n",
    "  Se user == computer : empate\n",
    "  user ganha quando:\n",
    "     user == pedra e computer == tesoura, ou\n",
    "     user == tesoura e computer == papel, ou\n",
    "     user == papel e computer == pedra     \n",
    "  caso contrário computer ganha    \n",
    "\"\"\"\n"
   ]
  },
  {
   "cell_type": "markdown",
   "metadata": {
    "slideshow": {
     "slide_type": "slide"
    }
   },
   "source": [
    "Escreva a solução usando aritimética modular. Dica:\n",
    "<img src=\"img/modulo.png\" alt=\"Drawing\" style=\"width: 300px;\"/>"
   ]
  },
  {
   "cell_type": "code",
   "execution_count": null,
   "metadata": {
    "code_folding": [],
    "slideshow": {
     "slide_type": "slide"
    }
   },
   "outputs": [],
   "source": []
  }
 ],
 "metadata": {
  "kernelspec": {
   "display_name": "Python 3",
   "language": "python",
   "name": "python3"
  },
  "language_info": {
   "codemirror_mode": {
    "name": "ipython",
    "version": 3
   },
   "file_extension": ".py",
   "mimetype": "text/x-python",
   "name": "python",
   "nbconvert_exporter": "python",
   "pygments_lexer": "ipython3",
   "version": "3.6.9"
  },
  "latex_envs": {
   "LaTeX_envs_menu_present": true,
   "autoclose": false,
   "autocomplete": true,
   "bibliofile": "biblio.bib",
   "cite_by": "apalike",
   "current_citInitial": 1,
   "eqLabelWithNumbers": true,
   "eqNumInitial": 1,
   "hotkeys": {
    "equation": "Ctrl-E",
    "itemize": "Ctrl-I"
   },
   "labels_anchors": false,
   "latex_user_defs": false,
   "report_style_numbering": false,
   "user_envs_cfg": false
  },
  "livereveal": {
   "theme": "solarized",
   "transition": "slide"
  },
  "toc": {
   "nav_menu": {},
   "number_sections": true,
   "sideBar": true,
   "skip_h1_title": false,
   "toc_cell": true,
   "toc_position": {
    "height": "565px",
    "left": "0px",
    "right": "1068px",
    "top": "111px",
    "width": "212px"
   },
   "toc_section_display": "block",
   "toc_window_display": false
  }
 },
 "nbformat": 4,
 "nbformat_minor": 2
}
