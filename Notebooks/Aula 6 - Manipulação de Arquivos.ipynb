{
 "cells": [
  {
   "cell_type": "markdown",
   "metadata": {
    "slideshow": {
     "slide_type": "slide"
    }
   },
   "source": [
    "# Arquivos Texto"
   ]
  },
  {
   "cell_type": "markdown",
   "metadata": {
    "slideshow": {
     "slide_type": "slide"
    }
   },
   "source": [
    "Leitura e escrita em arquivos em Python são fáceis de gerenciar.  \n",
    "A seguir, veremos:\n",
    "- Como ler dados de um arquivo texto usando a função `open`.\n",
    "- O primeiro parâmetro é o nome do arquivo que queremos ler; \n",
    "- O segundo parâmetro, atribuído ao valor \"r\", afirmamos que queremos ler do arquivo."
   ]
  },
  {
   "cell_type": "code",
   "execution_count": 28,
   "metadata": {
    "slideshow": {
     "slide_type": "fragment"
    }
   },
   "outputs": [],
   "source": [
    "fobj = open(\"file/myFile.txt\", \"r\")"
   ]
  },
  {
   "cell_type": "markdown",
   "metadata": {
    "slideshow": {
     "slide_type": "slide"
    }
   },
   "source": [
    "O \"r\" é opcional. Um comando `open` com apenas um nome de arquivo é aberto\n",
    "para leitura por padrão. A função `open` retorna um objeto de arquivo, que\n",
    "oferece métodos e atributos de arquivo."
   ]
  },
  {
   "cell_type": "markdown",
   "metadata": {
    "slideshow": {
     "slide_type": "slide"
    }
   },
   "source": [
    "Depois de termos finalizado o trabalho com um arquivo, devemos fechá-lo\n",
    "novamente usando o método do objeto do arquivo `close`:"
   ]
  },
  {
   "cell_type": "code",
   "execution_count": 29,
   "metadata": {
    "slideshow": {
     "slide_type": "fragment"
    }
   },
   "outputs": [],
   "source": [
    "fobj.close()"
   ]
  },
  {
   "cell_type": "markdown",
   "metadata": {
    "slideshow": {
     "slide_type": "slide"
    }
   },
   "source": [
    "## Escrevendo em um arquivo texto"
   ]
  },
  {
   "cell_type": "markdown",
   "metadata": {
    "slideshow": {
     "slide_type": "slide"
    }
   },
   "source": [
    "- O seguinte código abre um objeto de arquivo de escrita em um arquivo chamado \"file/arq01.txt\";\n",
    "- Se o arquivo não existir, ele será criado com o nome do caminho fornecido;\n",
    "- Se o arquivo já existe, o Python o abre;\n",
    "- Quando os dados são gravados no arquivo e o arquivo é fechado (`close`), todos os dados anteriormente existentes no arquivo são apagados;  \n",
    "- Se você quiser que o texto de saída termine com uma nova linha, você deve incluir o caractere de escape `\\n` na string. \n",
    "- O exemplo a seguir escreve duas linhas de texto no arquivo:"
   ]
  },
  {
   "cell_type": "code",
   "execution_count": 6,
   "metadata": {
    "slideshow": {
     "slide_type": "fragment"
    }
   },
   "outputs": [],
   "source": [
    "f = open(\"file/arq01.txt\", 'w')\n",
    "f.write(\"First line.\\nSecond line.\\n\")\n",
    "f.close()"
   ]
  },
  {
   "cell_type": "markdown",
   "metadata": {
    "slideshow": {
     "slide_type": "slide"
    }
   },
   "source": [
    "## Escrevendo números em um arquivo texto"
   ]
  },
  {
   "cell_type": "raw",
   "metadata": {
    "slideshow": {
     "slide_type": "fragment"
    }
   },
   "source": [
    "34.6 22.33 66.75\n",
    "77.12 21.44 99.01"
   ]
  },
  {
   "cell_type": "markdown",
   "metadata": {
    "slideshow": {
     "slide_type": "slide"
    }
   },
   "source": [
    "- Todos os dados de saída ou entrada de um arquivo texto devem ser strings.\n",
    "- Os números devem ser convertidos em strings antes da saída; \n",
    "- Essas strings devem ser convertidas de volta em números após a entrada;  \n",
    "- Em Python, os dados podem ser convertidos em strings usando a função `str`.\n",
    "\n",
    "O código abaixo ilustra a saída de inteiros para um arquivo texto. \n",
    "Valores entre 1 e 500 são gerados e escritos em um arquivo texto chamado \"file/int.txt\". \n",
    "O caractere de \\textit{newline} é o separador."
   ]
  },
  {
   "cell_type": "code",
   "execution_count": 7,
   "metadata": {
    "slideshow": {
     "slide_type": "fragment"
    }
   },
   "outputs": [],
   "source": [
    "import random\n",
    "f = open(\"file/int.txt\", 'w')\n",
    "for count in range(500):\n",
    "    number = random.randint(1, 500)\n",
    "    f.write(str(number) + \"\\n\")\n",
    "f.close()"
   ]
  },
  {
   "cell_type": "markdown",
   "metadata": {
    "slideshow": {
     "slide_type": "slide"
    }
   },
   "source": [
    "## Lendo dados de um arquivo texto"
   ]
  },
  {
   "cell_type": "markdown",
   "metadata": {
    "slideshow": {
     "slide_type": "slide"
    }
   },
   "source": [
    "- A maneira mais simples é usar o método `read`; \n",
    "- `read` insere todo o conteúdo do arquivo como uma seqüência única em um objeto string; \n",
    "- Se o arquivo contiver várias linhas de texto, os caracteres de nova linha (\\textit{newline}) serão incorporados nesta string."
   ]
  },
  {
   "cell_type": "code",
   "execution_count": 32,
   "metadata": {
    "slideshow": {
     "slide_type": "fragment"
    }
   },
   "outputs": [
    {
     "data": {
      "text/plain": [
       "'Python é uma linguagem de programação de alto nível\\ninterpretada de script, imperativa, orientada a objetos, \\nfuncional, de tipagem dinâmica e forte. \\nFoi lançada por Guido van Rossum em 1991.\\n'"
      ]
     },
     "execution_count": 32,
     "metadata": {},
     "output_type": "execute_result"
    }
   ],
   "source": [
    "f = open(\"file/myFile.txt\", 'r')\n",
    "text = f.read()\n",
    "text"
   ]
  },
  {
   "cell_type": "code",
   "execution_count": 33,
   "metadata": {
    "slideshow": {
     "slide_type": "fragment"
    }
   },
   "outputs": [
    {
     "name": "stdout",
     "output_type": "stream",
     "text": [
      "Python é uma linguagem de programação de alto nível\n",
      "interpretada de script, imperativa, orientada a objetos, \n",
      "funcional, de tipagem dinâmica e forte. \n",
      "Foi lançada por Guido van Rossum em 1991.\n",
      "\n"
     ]
    }
   ],
   "source": [
    "print(text)"
   ]
  },
  {
   "cell_type": "markdown",
   "metadata": {},
   "source": [
    "### Leitura de dados formatados de um arquivo"
   ]
  },
  {
   "cell_type": "markdown",
   "metadata": {
    "slideshow": {
     "slide_type": "slide"
    }
   },
   "source": [
    "- O método `rstrip` é usado para retirar os espaços em branco (incluindo o caracter de nova linha ou \\textit{newline}) do lado direito da string \"line\";\n",
    "- Outra aplicação importante consiste em ler e processar o texto, uma linha de cada vez; \n",
    "- O laço `for` exibe um objeto de arquivo como uma seqüência de linhas de texto. Em cada iteração do laço, a variável de iteração está vinculada à próxima linha de texto na seqüência."
   ]
  },
  {
   "cell_type": "code",
   "execution_count": 34,
   "metadata": {
    "slideshow": {
     "slide_type": "fragment"
    }
   },
   "outputs": [
    {
     "name": "stdout",
     "output_type": "stream",
     "text": [
      "Python é uma linguagem de programação de alto nível\n",
      "interpretada de script, imperativa, orientada a objetos,\n",
      "funcional, de tipagem dinâmica e forte.\n",
      "Foi lançada por Guido van Rossum em 1991.\n"
     ]
    }
   ],
   "source": [
    "fobj = open(\"file/myFile.txt\")\n",
    "for line in fobj:\n",
    "    print(line.rstrip())\n",
    "fobj.close()"
   ]
  },
  {
   "cell_type": "markdown",
   "metadata": {},
   "source": [
    "#### Método `readline`"
   ]
  },
  {
   "cell_type": "markdown",
   "metadata": {
    "slideshow": {
     "slide_type": "slide"
    }
   },
   "source": [
    "- O método `readline` é utilizado para ler um número especifico de linhas de um arquivo;\n",
    "- Consome uma linha de entrada e retorna essa string (incluindo o \\textit{newline}); \n",
    "- Se readline encontrar o final do arquivo, ele retorna a string vazia. "
   ]
  },
  {
   "cell_type": "code",
   "execution_count": 39,
   "metadata": {
    "slideshow": {
     "slide_type": "fragment"
    }
   },
   "outputs": [
    {
     "name": "stdout",
     "output_type": "stream",
     "text": [
      "Python é uma linguagem de programação de alto nível\n",
      "\n",
      "interpretada de script, imperativa, orientada a objetos, \n",
      "\n",
      "funcional, de tipagem dinâmica e forte. \n",
      "\n",
      "Foi lançada por Guido van Rossum em 1991.\n",
      "\n"
     ]
    }
   ],
   "source": [
    "f = open(\"file/myFile.txt\", 'r')\n",
    "while True:\n",
    "    line = f.readline()\n",
    "    if line == \"\":\n",
    "        break\n",
    "    print(line)"
   ]
  },
  {
   "cell_type": "markdown",
   "metadata": {
    "slideshow": {
     "slide_type": "slide"
    }
   },
   "source": [
    "## Lendo números de um arquivo texto"
   ]
  },
  {
   "cell_type": "markdown",
   "metadata": {},
   "source": [
    "#### 1) Números separados por linhas:"
   ]
  },
  {
   "cell_type": "markdown",
   "metadata": {
    "slideshow": {
     "slide_type": "slide"
    }
   },
   "source": [
    "- Em Python, as representações de seqüência de números inteiros e números de ponto flutuante podem ser convertidas para os próprios números usando as funções `int` e `float`, respectivamente;\n",
    "- Precisamos converter cada linha para o inteiro contido nele; \n",
    "- Utiliza-se o método `strip` para remover o \\textit{newline} e, em seguida, executa a função `int` para obter o valor inteiro.\n"
   ]
  },
  {
   "cell_type": "code",
   "execution_count": 13,
   "metadata": {
    "slideshow": {
     "slide_type": "fragment"
    }
   },
   "outputs": [
    {
     "name": "stdout",
     "output_type": "stream",
     "text": [
      "The sum is 126702\n"
     ]
    }
   ],
   "source": [
    "f = open(\"file/int.txt\", 'r')\n",
    "sum = 0\n",
    "for line in f:\n",
    "    line = line.strip()\n",
    "    number = int(line)\n",
    "    sum += number\n",
    "print(\"The sum is\", sum)"
   ]
  },
  {
   "cell_type": "markdown",
   "metadata": {},
   "source": [
    "#### 2) Números separados por espaço;"
   ]
  },
  {
   "cell_type": "markdown",
   "metadata": {
    "slideshow": {
     "slide_type": "slide"
    }
   },
   "source": [
    "- Cada linha pode conter vários números inteiros separados por espaços; \n",
    "- Utilizamos o  método de seqüência `split` para obter uma lista das cadeias de caracteres que representam esses números inteiros; \n",
    "- Processa cada seqüência desta lista com outro laço for.\n",
    "\n",
    "* Modificamos o exemplo anterior para lidar com números inteiros separados por espaços e/ou caracteres de \\textit{newline}."
   ]
  },
  {
   "cell_type": "code",
   "execution_count": 17,
   "metadata": {
    "slideshow": {
     "slide_type": "fragment"
    }
   },
   "outputs": [
    {
     "name": "stdout",
     "output_type": "stream",
     "text": [
      "The sum is 127242\n"
     ]
    }
   ],
   "source": [
    "f = open(\"file/int.txt\", 'r')\n",
    "sum = 0\n",
    "for line in f:\n",
    "    wordlist = line.split()\n",
    "    for word in wordlist:\n",
    "        number = int(word)\n",
    "        sum += number \n",
    "print(\"The sum is\", sum)"
   ]
  },
  {
   "cell_type": "markdown",
   "metadata": {},
   "source": [
    "### Outra forma de manipulação de arquivos"
   ]
  },
  {
   "cell_type": "markdown",
   "metadata": {},
   "source": [
    "- Visualização do conteúdo:"
   ]
  },
  {
   "cell_type": "code",
   "execution_count": 20,
   "metadata": {},
   "outputs": [
    {
     "name": "stdout",
     "output_type": "stream",
     "text": [
      "First line.\n",
      "\n",
      "Second line.\n",
      "\n"
     ]
    }
   ],
   "source": [
    "with open('file/arq01.txt', 'r') as tex:\n",
    "  for linha in tex:\n",
    "    print(linha)\n",
    "tex.close()    "
   ]
  },
  {
   "cell_type": "markdown",
   "metadata": {},
   "source": [
    "- Armazena o conteúdo em uma lista:"
   ]
  },
  {
   "cell_type": "code",
   "execution_count": 24,
   "metadata": {},
   "outputs": [
    {
     "name": "stdout",
     "output_type": "stream",
     "text": [
      "['First line.\\n', 'Second line.\\n']\n"
     ]
    }
   ],
   "source": [
    "with open('file/arq01.txt') as tex:\n",
    "  r = tex.readlines()\n",
    "print(r)"
   ]
  },
  {
   "cell_type": "markdown",
   "metadata": {},
   "source": [
    "- Cria um novo arquivo e armazena conteúdo:"
   ]
  },
  {
   "cell_type": "code",
   "execution_count": 25,
   "metadata": {},
   "outputs": [],
   "source": [
    "with open('file/arq02.txt', 'w') as texto:\n",
    "  texto.write('Olá a todos')"
   ]
  },
  {
   "cell_type": "code",
   "execution_count": 27,
   "metadata": {},
   "outputs": [
    {
     "name": "stdout",
     "output_type": "stream",
     "text": [
      "Olá a todos\n"
     ]
    }
   ],
   "source": [
    "with open('file/arq02.txt', 'r') as tex:\n",
    "  for linha in tex:\n",
    "    print(linha)"
   ]
  },
  {
   "cell_type": "markdown",
   "metadata": {
    "slideshow": {
     "slide_type": "slide"
    }
   },
   "source": [
    "# Editando Arquivos texto"
   ]
  },
  {
   "cell_type": "markdown",
   "metadata": {
    "slideshow": {
     "slide_type": "slide"
    }
   },
   "source": [
    "Com o modo de operação \"r+\" (ver tabela abaixo), podemos ler todo o texto de um arquivo e fazer qualquer alteração que julgarmos necessária. O texto alterado pode então ser sobrescrito sobre o texto anterior. Ao realizar a leitura de um caractere, ou uma linha, automaticamente o indicador de posição do arquivo se move para o próximo caractere (ou linha). Para voltar ao início do arquivo novamente você pode usar o método `seek`:\n",
    "```\n",
    "seek(offset, from_what)\n",
    "```\n",
    "onde o primeiro parâmetro indica quantos bytes se mover a partir do valor inicial from_what.\n",
    "Os valores de from_what podem ser:\n",
    "  0: indica início do arquivo.\n",
    "  1: indica a posição atual no arquivo.\n",
    "  2: indica a posição final do arquivo.\n",
    "  \n",
    "Os modos de abertura de arquivo texto e o indicador de posição são:\n",
    " \n",
    " | modo | operações | indicador de posição |\n",
    " | :-:  | :-:       | :-: |\n",
    " | r    | leitura   | início do arquivo    |\n",
    " | r+   | leitura e escrita | início do arquivo |\n",
    " | w    | escrita | início do arquivo |\n",
    " | a    | (append) escrita | final do arquivo |"
   ]
  }
 ],
 "metadata": {
  "kernelspec": {
   "display_name": "Python 3",
   "language": "python",
   "name": "python3"
  },
  "language_info": {
   "codemirror_mode": {
    "name": "ipython",
    "version": 3
   },
   "file_extension": ".py",
   "mimetype": "text/x-python",
   "name": "python",
   "nbconvert_exporter": "python",
   "pygments_lexer": "ipython3",
   "version": "3.6.9"
  },
  "latex_envs": {
   "LaTeX_envs_menu_present": true,
   "autoclose": false,
   "autocomplete": true,
   "bibliofile": "biblio.bib",
   "cite_by": "apalike",
   "current_citInitial": 1,
   "eqLabelWithNumbers": true,
   "eqNumInitial": 1,
   "hotkeys": {
    "equation": "Ctrl-E",
    "itemize": "Ctrl-I"
   },
   "labels_anchors": false,
   "latex_user_defs": false,
   "report_style_numbering": false,
   "user_envs_cfg": false
  },
  "livereveal": {
   "theme": "solarized",
   "transition": "slide"
  },
  "toc": {
   "nav_menu": {},
   "number_sections": true,
   "sideBar": true,
   "skip_h1_title": false,
   "toc_cell": true,
   "toc_position": {},
   "toc_section_display": "block",
   "toc_window_display": false
  }
 },
 "nbformat": 4,
 "nbformat_minor": 2
}
